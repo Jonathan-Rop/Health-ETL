{
 "cells": [
  {
   "cell_type": "code",
   "execution_count": null,
   "id": "778ded26",
   "metadata": {},
   "outputs": [],
   "source": [
    "import pandas as pd\n",
    "import matplotlib.pyplot as plt\n",
    "import psycopg2\n",
    "from sqlalchemy import create_engine"
   ]
  },
  {
   "cell_type": "code",
   "execution_count": null,
   "id": "51d38e3a",
   "metadata": {},
   "outputs": [],
   "source": [
    "\n",
    "dbname = \"RTV\"\n",
    "user = \"postgres\"\n",
    "password = \"5687\"\n",
    "host = \"localhost\"\n",
    "port = \"5432\"  \n",
    "\n",
    "\n",
    "engine = create_engine(f'postgresql://{user}:{password}@{host}:{port}/{dbname}')\n",
    "try:\n",
    "    with engine.connect() as conn:\n",
    "        print(\"connection successful\")\n",
    "except Exception as e:\n",
    "    print(\"connection failed\", e)"
   ]
  }
 ],
 "metadata": {
  "language_info": {
   "name": "python"
  }
 },
 "nbformat": 4,
 "nbformat_minor": 5
}

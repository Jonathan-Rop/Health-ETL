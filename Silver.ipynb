{
 "cells": [
  {
   "cell_type": "markdown",
   "id": "82ddc9f4",
   "metadata": {},
   "source": [
    "### Importing Data and necessary Libraries"
   ]
  },
  {
   "cell_type": "code",
   "execution_count": 1,
   "id": "558ed33f",
   "metadata": {},
   "outputs": [],
   "source": [
    "import pandas as pd\n",
    "import matplotlib.pyplot as plt\n",
    "import psycopg2\n",
    "from sqlalchemy import create_engine\n",
    "\n",
    "\n"
   ]
  },
  {
   "cell_type": "code",
   "execution_count": 2,
   "id": "16931e74",
   "metadata": {},
   "outputs": [
    {
     "ename": "NameError",
     "evalue": "name 'spark' is not defined",
     "output_type": "error",
     "traceback": [
      "\u001b[31m---------------------------------------------------------------------------\u001b[39m",
      "\u001b[31mNameError\u001b[39m                                 Traceback (most recent call last)",
      "\u001b[36mCell\u001b[39m\u001b[36m \u001b[39m\u001b[32mIn[2]\u001b[39m\u001b[32m, line 1\u001b[39m\n\u001b[32m----> \u001b[39m\u001b[32m1\u001b[39m df = \u001b[43mspark\u001b[49m.read.csv(\u001b[33mr\u001b[39m\u001b[33m\"\u001b[39m\u001b[33mC:\u001b[39m\u001b[33m\\\u001b[39m\u001b[33mUsers\u001b[39m\u001b[33m\\\u001b[39m\u001b[33mJKR\u001b[39m\u001b[33m\\\u001b[39m\u001b[33mDocuments\u001b[39m\u001b[33m\\\u001b[39m\u001b[33mProject-csv\u001b[39m\u001b[33m\\\u001b[39m\u001b[33mdiabetes.csv\u001b[39m\u001b[33m\"\u001b[39m, header=\u001b[38;5;28;01mTrue\u001b[39;00m, inferSchema=\u001b[38;5;28;01mTrue\u001b[39;00m)\n",
      "\u001b[31mNameError\u001b[39m: name 'spark' is not defined"
     ]
    }
   ],
   "source": [
    "df = spark.read.csv(r\"C:\\Users\\JKR\\Documents\\Project-csv\\diabetes.csv\", header=True, inferSchema=True)"
   ]
  },
  {
   "cell_type": "markdown",
   "id": "5c846b98",
   "metadata": {},
   "source": [
    "### Transformation"
   ]
  },
  {
   "cell_type": "code",
   "execution_count": null,
   "id": "1cc4edfe",
   "metadata": {},
   "outputs": [
    {
     "name": "stdout",
     "output_type": "stream",
     "text": [
      "root\n",
      " |-- _c0: string (nullable = true)\n",
      " |-- _c1: string (nullable = true)\n",
      " |-- _c2: string (nullable = true)\n",
      " |-- _c3: string (nullable = true)\n",
      " |-- _c4: string (nullable = true)\n",
      " |-- _c5: string (nullable = true)\n",
      " |-- _c6: string (nullable = true)\n",
      " |-- _c7: string (nullable = true)\n",
      " |-- _c8: string (nullable = true)\n",
      "\n"
     ]
    }
   ],
   "source": [
    "df.printSchema()"
   ]
  },
  {
   "cell_type": "code",
   "execution_count": null,
   "id": "f04c8e67",
   "metadata": {},
   "outputs": [
    {
     "data": {
      "text/plain": [
       "['_c0', '_c1', '_c2', '_c3', '_c4', '_c5', '_c6', '_c7', '_c8']"
      ]
     },
     "execution_count": 6,
     "metadata": {},
     "output_type": "execute_result"
    }
   ],
   "source": [
    "df.columns"
   ]
  },
  {
   "cell_type": "code",
   "execution_count": null,
   "id": "6fb981ca",
   "metadata": {},
   "outputs": [
    {
     "name": "stdout",
     "output_type": "stream",
     "text": [
      "+-----------+-------+-------------+-------------+-------+----+--------------------+---+-------+\n",
      "|        _c0|    _c1|          _c2|          _c3|    _c4| _c5|                 _c6|_c7|    _c8|\n",
      "+-----------+-------+-------------+-------------+-------+----+--------------------+---+-------+\n",
      "|Pregnancies|Glucose|BloodPressure|SkinThickness|Insulin| BMI|DiabetesPedigreeF...|Age|Outcome|\n",
      "|          6|    148|           72|           35|      0|33.6|               0.627| 50|      1|\n",
      "|          1|     85|           66|           29|      0|26.6|               0.351| 31|      0|\n",
      "|          8|    183|           64|            0|      0|23.3|               0.672| 32|      1|\n",
      "|          1|     89|           66|           23|     94|28.1|               0.167| 21|      0|\n",
      "|          0|    137|           40|           35|    168|43.1|               2.288| 33|      1|\n",
      "|          5|    116|           74|            0|      0|25.6|               0.201| 30|      0|\n",
      "|          3|     78|           50|           32|     88|  31|               0.248| 26|      1|\n",
      "|         10|    115|            0|            0|      0|35.3|               0.134| 29|      0|\n",
      "|          2|    197|           70|           45|    543|30.5|               0.158| 53|      1|\n",
      "|          8|    125|           96|            0|      0|   0|               0.232| 54|      1|\n",
      "|          4|    110|           92|            0|      0|37.6|               0.191| 30|      0|\n",
      "|         10|    168|           74|            0|      0|  38|               0.537| 34|      1|\n",
      "|         10|    139|           80|            0|      0|27.1|               1.441| 57|      0|\n",
      "|          1|    189|           60|           23|    846|30.1|               0.398| 59|      1|\n",
      "|          5|    166|           72|           19|    175|25.8|               0.587| 51|      1|\n",
      "|          7|    100|            0|            0|      0|  30|               0.484| 32|      1|\n",
      "|          0|    118|           84|           47|    230|45.8|               0.551| 31|      1|\n",
      "|          7|    107|           74|            0|      0|29.6|               0.254| 31|      1|\n",
      "|          1|    103|           30|           38|     83|43.3|               0.183| 33|      0|\n",
      "+-----------+-------+-------------+-------------+-------+----+--------------------+---+-------+\n",
      "only showing top 20 rows\n"
     ]
    }
   ],
   "source": [
    "df.show()"
   ]
  },
  {
   "cell_type": "markdown",
   "id": "41a2549b",
   "metadata": {},
   "source": [
    "\n",
    "### Replacing Null Values"
   ]
  },
  {
   "cell_type": "code",
   "execution_count": null,
   "id": "e11593af",
   "metadata": {},
   "outputs": [
    {
     "name": "stdout",
     "output_type": "stream",
     "text": [
      "+-----------+-------+-------------+-------------+-------+----+--------------------+---+-------+\n",
      "|        _c0|    _c1|          _c2|          _c3|    _c4| _c5|                 _c6|_c7|    _c8|\n",
      "+-----------+-------+-------------+-------------+-------+----+--------------------+---+-------+\n",
      "|Pregnancies|Glucose|BloodPressure|SkinThickness|Insulin| BMI|DiabetesPedigreeF...|Age|Outcome|\n",
      "|          6|    148|           72|           35|      0|33.6|               0.627| 50|      1|\n",
      "|          1|     85|           66|           29|      0|26.6|               0.351| 31|      0|\n",
      "|          8|    183|           64|            0|      0|23.3|               0.672| 32|      1|\n",
      "|          1|     89|           66|           23|     94|28.1|               0.167| 21|      0|\n",
      "|          0|    137|           40|           35|    168|43.1|               2.288| 33|      1|\n",
      "|          5|    116|           74|            0|      0|25.6|               0.201| 30|      0|\n",
      "|          3|     78|           50|           32|     88|  31|               0.248| 26|      1|\n",
      "|         10|    115|            0|            0|      0|35.3|               0.134| 29|      0|\n",
      "|          2|    197|           70|           45|    543|30.5|               0.158| 53|      1|\n",
      "|          8|    125|           96|            0|      0|   0|               0.232| 54|      1|\n",
      "|          4|    110|           92|            0|      0|37.6|               0.191| 30|      0|\n",
      "|         10|    168|           74|            0|      0|  38|               0.537| 34|      1|\n",
      "|         10|    139|           80|            0|      0|27.1|               1.441| 57|      0|\n",
      "|          1|    189|           60|           23|    846|30.1|               0.398| 59|      1|\n",
      "|          5|    166|           72|           19|    175|25.8|               0.587| 51|      1|\n",
      "|          7|    100|            0|            0|      0|  30|               0.484| 32|      1|\n",
      "|          0|    118|           84|           47|    230|45.8|               0.551| 31|      1|\n",
      "|          7|    107|           74|            0|      0|29.6|               0.254| 31|      1|\n",
      "|          1|    103|           30|           38|     83|43.3|               0.183| 33|      0|\n",
      "+-----------+-------+-------------+-------------+-------+----+--------------------+---+-------+\n",
      "only showing top 20 rows\n"
     ]
    }
   ],
   "source": [
    "df.na.drop(how =\"any\").show()"
   ]
  },
  {
   "cell_type": "code",
   "execution_count": null,
   "id": "366c1345",
   "metadata": {},
   "outputs": [
    {
     "name": "stdout",
     "output_type": "stream",
     "text": [
      "+-----------+-------+-------------+-------------+-------+----+--------------------+---+-------+\n",
      "|        _c0|    _c1|          _c2|          _c3|    _c4| _c5|                 _c6|_c7|    _c8|\n",
      "+-----------+-------+-------------+-------------+-------+----+--------------------+---+-------+\n",
      "|Pregnancies|Glucose|BloodPressure|SkinThickness|Insulin| BMI|DiabetesPedigreeF...|Age|Outcome|\n",
      "|          6|    148|           72|           35|      0|33.6|               0.627| 50|      1|\n",
      "|          1|     85|           66|           29|      0|26.6|               0.351| 31|      0|\n",
      "|          8|    183|           64|            0|      0|23.3|               0.672| 32|      1|\n",
      "|          1|     89|           66|           23|     94|28.1|               0.167| 21|      0|\n",
      "|          0|    137|           40|           35|    168|43.1|               2.288| 33|      1|\n",
      "|          5|    116|           74|            0|      0|25.6|               0.201| 30|      0|\n",
      "|          3|     78|           50|           32|     88|  31|               0.248| 26|      1|\n",
      "|         10|    115|            0|            0|      0|35.3|               0.134| 29|      0|\n",
      "|          2|    197|           70|           45|    543|30.5|               0.158| 53|      1|\n",
      "|          8|    125|           96|            0|      0|   0|               0.232| 54|      1|\n",
      "|          4|    110|           92|            0|      0|37.6|               0.191| 30|      0|\n",
      "|         10|    168|           74|            0|      0|  38|               0.537| 34|      1|\n",
      "|         10|    139|           80|            0|      0|27.1|               1.441| 57|      0|\n",
      "|          1|    189|           60|           23|    846|30.1|               0.398| 59|      1|\n",
      "|          5|    166|           72|           19|    175|25.8|               0.587| 51|      1|\n",
      "|          7|    100|            0|            0|      0|  30|               0.484| 32|      1|\n",
      "|          0|    118|           84|           47|    230|45.8|               0.551| 31|      1|\n",
      "|          7|    107|           74|            0|      0|29.6|               0.254| 31|      1|\n",
      "|          1|    103|           30|           38|     83|43.3|               0.183| 33|      0|\n",
      "+-----------+-------+-------------+-------------+-------+----+--------------------+---+-------+\n",
      "only showing top 20 rows\n"
     ]
    }
   ],
   "source": [
    "df.show()"
   ]
  },
  {
   "cell_type": "code",
   "execution_count": null,
   "id": "bae6ba75",
   "metadata": {},
   "outputs": [
    {
     "name": "stdout",
     "output_type": "stream",
     "text": [
      "+-----------+-------+-------------+-------------+-------+----+--------------------+---+-------+\n",
      "|        _c0|    _c1|          _c2|          _c3|    _c4| _c5|                 _c6|_c7|    _c8|\n",
      "+-----------+-------+-------------+-------------+-------+----+--------------------+---+-------+\n",
      "|Pregnancies|Glucose|BloodPressure|SkinThickness|Insulin| BMI|DiabetesPedigreeF...|Age|Outcome|\n",
      "|          6|    148|           72|           35|      0|33.6|               0.627| 50|      1|\n",
      "|          1|     85|           66|           29|      0|26.6|               0.351| 31|      0|\n",
      "|          8|    183|           64|            0|      0|23.3|               0.672| 32|      1|\n",
      "|          1|     89|           66|           23|     94|28.1|               0.167| 21|      0|\n",
      "|          0|    137|           40|           35|    168|43.1|               2.288| 33|      1|\n",
      "|          5|    116|           74|            0|      0|25.6|               0.201| 30|      0|\n",
      "|          3|     78|           50|           32|     88|  31|               0.248| 26|      1|\n",
      "|         10|    115|            0|            0|      0|35.3|               0.134| 29|      0|\n",
      "|          2|    197|           70|           45|    543|30.5|               0.158| 53|      1|\n",
      "|          8|    125|           96|            0|      0|   0|               0.232| 54|      1|\n",
      "|          4|    110|           92|            0|      0|37.6|               0.191| 30|      0|\n",
      "|         10|    168|           74|            0|      0|  38|               0.537| 34|      1|\n",
      "|         10|    139|           80|            0|      0|27.1|               1.441| 57|      0|\n",
      "|          1|    189|           60|           23|    846|30.1|               0.398| 59|      1|\n",
      "|          5|    166|           72|           19|    175|25.8|               0.587| 51|      1|\n",
      "|          7|    100|            0|            0|      0|  30|               0.484| 32|      1|\n",
      "|          0|    118|           84|           47|    230|45.8|               0.551| 31|      1|\n",
      "|          7|    107|           74|            0|      0|29.6|               0.254| 31|      1|\n",
      "|          1|    103|           30|           38|     83|43.3|               0.183| 33|      0|\n",
      "+-----------+-------+-------------+-------------+-------+----+--------------------+---+-------+\n",
      "only showing top 20 rows\n"
     ]
    }
   ],
   "source": [
    "df.na.fill(\"Silver.ipynb\").show()"
   ]
  },
  {
   "cell_type": "markdown",
   "id": "77f6b69b",
   "metadata": {},
   "source": [
    "### Simple Pie Chart Representation"
   ]
  },
  {
   "cell_type": "code",
   "execution_count": null,
   "id": "55ec02a3",
   "metadata": {},
   "outputs": [
    {
     "data": {
      "image/png": "[encoded data removed]",
      "text/plain": [
       "<Figure size 600x600 with 1 Axes>"
      ]
     },
     "metadata": {},
     "output_type": "display_data"
    }
   ],
   "source": [
    "\n",
    "outcome_counts = df.groupBy(\"Outcome\").count().toPandas()\n",
    "labels = ['No Diabetes', 'Diabetes']\n",
    "sizes = outcome_counts.sort_values(\"Outcome\")[\"count\"]\n",
    "plt.figure(figsize=(6, 6))\n",
    "plt.pie(sizes, labels=labels, autopct='%1.1f%%', startangle=90)\n",
    "plt.title(\"Diabetes Outcome Distribution\")\n",
    "plt.show()\n"
   ]
  },
  {
   "cell_type": "markdown",
   "id": "d66b1202",
   "metadata": {},
   "source": [
    "### Filter Operations"
   ]
  },
  {
   "cell_type": "code",
   "execution_count": null,
   "id": "0c302c1f",
   "metadata": {},
   "outputs": [
    {
     "name": "stdout",
     "output_type": "stream",
     "text": [
      "+-----------+-------+-------------+-------------+-------+----+--------------------+---+-------+\n",
      "|        _c0|    _c1|          _c2|          _c3|    _c4| _c5|                 _c6|_c7|    _c8|\n",
      "+-----------+-------+-------------+-------------+-------+----+--------------------+---+-------+\n",
      "|Pregnancies|Glucose|BloodPressure|SkinThickness|Insulin| BMI|DiabetesPedigreeF...|Age|Outcome|\n",
      "|          6|    148|           72|           35|      0|33.6|               0.627| 50|      1|\n",
      "|          1|     85|           66|           29|      0|26.6|               0.351| 31|      0|\n",
      "|          8|    183|           64|            0|      0|23.3|               0.672| 32|      1|\n",
      "|          1|     89|           66|           23|     94|28.1|               0.167| 21|      0|\n",
      "|          0|    137|           40|           35|    168|43.1|               2.288| 33|      1|\n",
      "|          5|    116|           74|            0|      0|25.6|               0.201| 30|      0|\n",
      "|          3|     78|           50|           32|     88|  31|               0.248| 26|      1|\n",
      "|         10|    115|            0|            0|      0|35.3|               0.134| 29|      0|\n",
      "|          2|    197|           70|           45|    543|30.5|               0.158| 53|      1|\n",
      "|          8|    125|           96|            0|      0|   0|               0.232| 54|      1|\n",
      "|          4|    110|           92|            0|      0|37.6|               0.191| 30|      0|\n",
      "|         10|    168|           74|            0|      0|  38|               0.537| 34|      1|\n",
      "|         10|    139|           80|            0|      0|27.1|               1.441| 57|      0|\n",
      "|          1|    189|           60|           23|    846|30.1|               0.398| 59|      1|\n",
      "|          5|    166|           72|           19|    175|25.8|               0.587| 51|      1|\n",
      "|          7|    100|            0|            0|      0|  30|               0.484| 32|      1|\n",
      "|          0|    118|           84|           47|    230|45.8|               0.551| 31|      1|\n",
      "|          7|    107|           74|            0|      0|29.6|               0.254| 31|      1|\n",
      "|          1|    103|           30|           38|     83|43.3|               0.183| 33|      0|\n",
      "+-----------+-------+-------------+-------------+-------+----+--------------------+---+-------+\n",
      "only showing top 20 rows\n"
     ]
    }
   ],
   "source": [
    "df.show()"
   ]
  },
  {
   "cell_type": "code",
   "execution_count": null,
   "id": "b29cb99d",
   "metadata": {},
   "outputs": [
    {
     "name": "stdout",
     "output_type": "stream",
     "text": [
      "+-----------+-------+-------------+-------------+-------+----+------------------------+---+-------+\n",
      "|Pregnancies|Glucose|BloodPressure|SkinThickness|Insulin| BMI|DiabetesPedigreeFunction|Age|Outcome|\n",
      "+-----------+-------+-------------+-------------+-------+----+------------------------+---+-------+\n",
      "|          1|     85|           66|           29|      0|26.6|                   0.351| 31|      0|\n",
      "|          8|    183|           64|            0|      0|23.3|                   0.672| 32|      1|\n",
      "|          1|     89|           66|           23|     94|28.1|                   0.167| 21|      0|\n",
      "|          5|    116|           74|            0|      0|25.6|                   0.201| 30|      0|\n",
      "|          3|     78|           50|           32|     88|31.0|                   0.248| 26|      1|\n",
      "|          2|    197|           70|           45|    543|30.5|                   0.158| 53|      1|\n",
      "|          8|    125|           96|            0|      0| 0.0|                   0.232| 54|      1|\n",
      "|         10|    139|           80|            0|      0|27.1|                   1.441| 57|      0|\n",
      "|          1|    189|           60|           23|    846|30.1|                   0.398| 59|      1|\n",
      "|          5|    166|           72|           19|    175|25.8|                   0.587| 51|      1|\n",
      "|          7|    100|            0|            0|      0|30.0|                   0.484| 32|      1|\n",
      "|          7|    107|           74|            0|      0|29.6|                   0.254| 31|      1|\n",
      "|          9|    119|           80|           35|      0|29.0|                   0.263| 29|      1|\n",
      "|         10|    125|           70|           26|    115|31.1|                   0.205| 41|      1|\n",
      "|          1|     97|           66|           15|    140|23.2|                   0.487| 22|      0|\n",
      "|         13|    145|           82|           19|    110|22.2|                   0.245| 57|      0|\n",
      "|          3|    158|           76|           36|    245|31.6|                   0.851| 28|      1|\n",
      "|          3|     88|           58|           11|     54|24.8|                   0.267| 22|      0|\n",
      "|          6|     92|           92|            0|      0|19.9|                   0.188| 28|      0|\n",
      "|         10|    122|           78|           31|      0|27.6|                   0.512| 45|      0|\n",
      "+-----------+-------+-------------+-------------+-------+----+------------------------+---+-------+\n",
      "only showing top 20 rows\n"
     ]
    }
   ],
   "source": [
    "df.filter(\"BMI <= 33\").show()"
   ]
  },
  {
   "cell_type": "markdown",
   "id": "da7675c7",
   "metadata": {},
   "source": [
    "### Example of a filter to show\n",
    "\n",
    "### Adults with an alarming  BMI index"
   ]
  },
  {
   "cell_type": "code",
   "execution_count": null,
   "id": "6d5257e8",
   "metadata": {},
   "outputs": [
    {
     "name": "stdout",
     "output_type": "stream",
     "text": [
      "+-----------+-------+-------------+-------------+-------+----+------------------------+---+-------+\n",
      "|Pregnancies|Glucose|BloodPressure|SkinThickness|Insulin| BMI|DiabetesPedigreeFunction|Age|Outcome|\n",
      "+-----------+-------+-------------+-------------+-------+----+------------------------+---+-------+\n",
      "|          6|    148|           72|           35|      0|33.6|                   0.627| 50|      1|\n",
      "|          1|     85|           66|           29|      0|26.6|                   0.351| 31|      0|\n",
      "|          8|    183|           64|            0|      0|23.3|                   0.672| 32|      1|\n",
      "|          1|     89|           66|           23|     94|28.1|                   0.167| 21|      0|\n",
      "|          0|    137|           40|           35|    168|43.1|                   2.288| 33|      1|\n",
      "|          5|    116|           74|            0|      0|25.6|                   0.201| 30|      0|\n",
      "|          3|     78|           50|           32|     88|31.0|                   0.248| 26|      1|\n",
      "|         10|    115|            0|            0|      0|35.3|                   0.134| 29|      0|\n",
      "|          2|    197|           70|           45|    543|30.5|                   0.158| 53|      1|\n",
      "|          8|    125|           96|            0|      0| 0.0|                   0.232| 54|      1|\n",
      "|          4|    110|           92|            0|      0|37.6|                   0.191| 30|      0|\n",
      "|         10|    168|           74|            0|      0|38.0|                   0.537| 34|      1|\n",
      "|         10|    139|           80|            0|      0|27.1|                   1.441| 57|      0|\n",
      "|          1|    189|           60|           23|    846|30.1|                   0.398| 59|      1|\n",
      "|          5|    166|           72|           19|    175|25.8|                   0.587| 51|      1|\n",
      "|          7|    100|            0|            0|      0|30.0|                   0.484| 32|      1|\n",
      "|          0|    118|           84|           47|    230|45.8|                   0.551| 31|      1|\n",
      "|          7|    107|           74|            0|      0|29.6|                   0.254| 31|      1|\n",
      "|          1|    103|           30|           38|     83|43.3|                   0.183| 33|      0|\n",
      "|          1|    115|           70|           30|     96|34.6|                   0.529| 32|      1|\n",
      "+-----------+-------+-------------+-------------+-------+----+------------------------+---+-------+\n",
      "only showing top 20 rows\n"
     ]
    }
   ],
   "source": [
    "df.filter((df['Age'] >= 18) | (df['BMI'] >= 24 )).show()"
   ]
  },
  {
   "cell_type": "markdown",
   "id": "29ccd030",
   "metadata": {},
   "source": [
    "### Aggregate Functions"
   ]
  },
  {
   "cell_type": "markdown",
   "id": "baf50fe2",
   "metadata": {},
   "source": [
    "1. Total number of Pregnancies"
   ]
  },
  {
   "cell_type": "code",
   "execution_count": null,
   "id": "bbbeb98d",
   "metadata": {},
   "outputs": [
    {
     "name": "stdout",
     "output_type": "stream",
     "text": [
      "+-----------+----------------+------------+------------------+------------------+------------+------------------+-----------------------------+--------+------------+\n",
      "|Pregnancies|sum(Pregnancies)|sum(Glucose)|sum(BloodPressure)|sum(SkinThickness)|sum(Insulin)|          sum(BMI)|sum(DiabetesPedigreeFunction)|sum(Age)|sum(Outcome)|\n",
      "+-----------+----------------+------------+------------------+------------------+------------+------------------+-----------------------------+--------+------------+\n",
      "|         12|             108|        1022|               687|               244|        1013|             291.1|                        3.999|     427|           4|\n",
      "|          1|             135|       15221|              9152|              3299|       13321| 4235.300000000001|                       65.677|    3695|          29|\n",
      "|         13|             130|        1255|               738|               173|         279|             350.0|                        4.633|     445|           5|\n",
      "|          6|             300|        6040|              3421|               882|        3179|1514.4999999999998|           21.476000000000003|    1967|          16|\n",
      "|          3|             225|        9269|              4994|              1506|        6559|2281.9000000000005|           32.410999999999994|    2177|          27|\n",
      "|          5|             285|        6775|              4344|               991|        3266|1891.9999999999998|                       22.596|    2225|          21|\n",
      "|         15|              15|         136|                70|                32|         110|              37.1|                        0.153|      43|           1|\n",
      "|          9|             252|        3679|              2181|               585|        1748|             887.8|                       15.419|    1237|          18|\n",
      "|         17|              17|         163|                72|                41|         114|              40.9|                        0.817|      47|           1|\n",
      "|          4|             272|        8508|              4762|              1080|        4722|2185.6000000000004|           30.351999999999997|    2229|          23|\n",
      "|          8|             304|        5006|              2857|               658|        3527|            1199.6|           19.179000000000006|    1724|          22|\n",
      "|          7|             315|        6140|              3185|               913|        3801|            1468.4|           19.962999999999994|    1850|          25|\n",
      "|         10|             240|        2902|              1685|               377|         835| 735.4000000000001|           10.899999999999999|    1024|          10|\n",
      "|         11|             121|        1391|               816|               239|         720|424.20000000000005|                        5.748|     490|           7|\n",
      "|         14|              28|         275|               140|                55|         184|              70.2|                        0.624|      84|           2|\n",
      "|          2|             206|       11412|              6515|              2225|        8842|            3150.1|            50.64100000000002|    2801|          19|\n",
      "|          0|               0|       13653|              7454|              2472|        9066| 3806.200000000002|            57.81300000000002|    3064|          38|\n",
      "+-----------+----------------+------------+------------------+------------------+------------+------------------+-----------------------------+--------+------------+\n",
      "\n"
     ]
    }
   ],
   "source": [
    "df.groupBy (\"Pregnancies\").sum().show()"
   ]
  },
  {
   "cell_type": "code",
   "execution_count": null,
   "id": "2aabe56a",
   "metadata": {},
   "outputs": [
    {
     "name": "stdout",
     "output_type": "stream",
     "text": [
      "+-----------+-----+\n",
      "|Pregnancies|count|\n",
      "+-----------+-----+\n",
      "|         12|    9|\n",
      "|          1|  135|\n",
      "|         13|   10|\n",
      "|          6|   50|\n",
      "|          3|   75|\n",
      "|          5|   57|\n",
      "|         15|    1|\n",
      "|          9|   28|\n",
      "|         17|    1|\n",
      "|          4|   68|\n",
      "|          8|   38|\n",
      "|          7|   45|\n",
      "|         10|   24|\n",
      "|         11|   11|\n",
      "|         14|    2|\n",
      "|          2|  103|\n",
      "|          0|  111|\n",
      "+-----------+-----+\n",
      "\n"
     ]
    }
   ],
   "source": [
    "df.groupBy('Pregnancies').count().show()"
   ]
  },
  {
   "cell_type": "code",
   "execution_count": null,
   "id": "2c38d54b",
   "metadata": {},
   "outputs": [
    {
     "name": "stdout",
     "output_type": "stream",
     "text": [
      "+---+------------------+------------------+------------------+------------------+------------------+------------------+-----------------------------+--------+-------------------+\n",
      "|Age|  avg(Pregnancies)|      avg(Glucose)|avg(BloodPressure)|avg(SkinThickness)|      avg(Insulin)|          avg(BMI)|avg(DiabetesPedigreeFunction)|avg(Age)|       avg(Outcome)|\n",
      "+---+------------------+------------------+------------------+------------------+------------------+------------------+-----------------------------+--------+-------------------+\n",
      "| 31|             3.875|126.95833333333333|            64.375|              20.0|111.16666666666667| 34.01666666666666|           0.5895833333333333|    31.0| 0.5416666666666666|\n",
      "| 65|3.3333333333333335|             137.0| 78.66666666666667|12.333333333333334|               0.0|31.600000000000005|          0.25899999999999995|    65.0|                0.0|\n",
      "| 53|               5.4|             158.0|              79.0|              21.2|             183.0|30.500000000000007|                       0.5506|    53.0|                0.8|\n",
      "| 34| 5.857142857142857|131.85714285714286|              74.0|18.714285714285715|148.07142857142858|31.164285714285715|           0.6498571428571429|    34.0| 0.2857142857142857|\n",
      "| 81|               9.0|             134.0|              74.0|              33.0|              60.0|              25.9|                         0.46|    81.0|                0.0|\n",
      "| 28|3.0285714285714285|119.91428571428571| 68.31428571428572| 23.62857142857143|              94.6|33.642857142857146|          0.45962857142857144|    28.0| 0.2857142857142857|\n",
      "| 26|1.9696969696969697|118.21212121212122| 64.18181818181819|23.666666666666668| 90.87878787878788|34.915151515151514|           0.4134545454545455|    26.0|0.24242424242424243|\n",
      "| 27|            2.5625|         115.28125|              73.5|            18.375|            63.125|31.949999999999992|          0.47174999999999995|    27.0|               0.25|\n",
      "| 44|              7.25|           124.375|             61.75|             4.625|             32.25|           34.1625|           0.6683749999999999|    44.0|              0.625|\n",
      "| 22|1.5555555555555556|108.20833333333333| 63.72222222222222| 20.48611111111111| 74.48611111111111| 29.50972222222222|           0.4306249999999998|    22.0| 0.1527777777777778|\n",
      "| 47| 8.333333333333334|             137.0| 78.33333333333333|              14.5|49.166666666666664| 34.56666666666667|           0.3553333333333333|    47.0| 0.6666666666666666|\n",
      "| 52|             4.625|             133.0|              81.5|            13.375|              94.5|            33.475|                     0.505375|    52.0|              0.875|\n",
      "| 40| 6.230769230769231|130.92307692307693| 69.23076923076923| 24.23076923076923|  72.3076923076923| 33.53846153846154|           0.3760769230769231|    40.0|0.46153846153846156|\n",
      "| 57|               8.8|             137.8|              76.8|               9.6|              78.0|              29.7|                        0.704|    57.0|                0.2|\n",
      "| 54|               7.0|140.33333333333334| 89.33333333333333| 8.833333333333334|              61.0|30.799999999999997|          0.46549999999999997|    54.0| 0.6666666666666666|\n",
      "| 48|               8.8|             107.6|              78.4|              23.4|              52.0|29.979999999999997|          0.45680000000000004|    48.0|                0.2|\n",
      "| 64|               8.0|             120.0|              78.0|               0.0|               0.0|              25.0|                        0.409|    64.0|                0.0|\n",
      "| 41|               6.5| 129.0909090909091|  67.5909090909091| 17.40909090909091| 38.81818181818182|  35.2590909090909|          0.39627272727272717|    41.0| 0.5909090909090909|\n",
      "| 43| 7.769230769230769|             133.0| 78.46153846153847|27.846153846153847|125.15384615384616|36.892307692307696|           0.4508461538461539|    43.0| 0.8461538461538461|\n",
      "| 37|5.2631578947368425| 130.1578947368421| 75.94736842105263| 18.31578947368421| 59.26315789473684|32.078947368421055|           0.4146315789473684|    37.0| 0.3157894736842105|\n",
      "+---+------------------+------------------+------------------+------------------+------------------+------------------+-----------------------------+--------+-------------------+\n",
      "only showing top 20 rows\n"
     ]
    }
   ],
   "source": [
    "df.groupBy('Age').avg().show()"
   ]
  },
  {
   "cell_type": "code",
   "execution_count": null,
   "id": "042e8398",
   "metadata": {},
   "outputs": [
    {
     "name": "stdout",
     "output_type": "stream",
     "text": [
      "+---+------------------+------------------+------------------+------------------+------------------+------------------+-----------------------------+--------+-------------------+\n",
      "|Age|  avg(Pregnancies)|      avg(Glucose)|avg(BloodPressure)|avg(SkinThickness)|      avg(Insulin)|          avg(BMI)|avg(DiabetesPedigreeFunction)|avg(Age)|       avg(Outcome)|\n",
      "+---+------------------+------------------+------------------+------------------+------------------+------------------+-----------------------------+--------+-------------------+\n",
      "| 31|             3.875|126.95833333333333|            64.375|              20.0|111.16666666666667| 34.01666666666666|           0.5895833333333333|    31.0| 0.5416666666666666|\n",
      "| 65|3.3333333333333335|             137.0| 78.66666666666667|12.333333333333334|               0.0|31.600000000000005|          0.25899999999999995|    65.0|                0.0|\n",
      "| 53|               5.4|             158.0|              79.0|              21.2|             183.0|30.500000000000007|                       0.5506|    53.0|                0.8|\n",
      "| 34| 5.857142857142857|131.85714285714286|              74.0|18.714285714285715|148.07142857142858|31.164285714285715|           0.6498571428571429|    34.0| 0.2857142857142857|\n",
      "| 81|               9.0|             134.0|              74.0|              33.0|              60.0|              25.9|                         0.46|    81.0|                0.0|\n",
      "| 28|3.0285714285714285|119.91428571428571| 68.31428571428572| 23.62857142857143|              94.6|33.642857142857146|          0.45962857142857144|    28.0| 0.2857142857142857|\n",
      "| 26|1.9696969696969697|118.21212121212122| 64.18181818181819|23.666666666666668| 90.87878787878788|34.915151515151514|           0.4134545454545455|    26.0|0.24242424242424243|\n",
      "| 27|            2.5625|         115.28125|              73.5|            18.375|            63.125|31.949999999999992|          0.47174999999999995|    27.0|               0.25|\n",
      "| 44|              7.25|           124.375|             61.75|             4.625|             32.25|           34.1625|           0.6683749999999999|    44.0|              0.625|\n",
      "| 22|1.5555555555555556|108.20833333333333| 63.72222222222222| 20.48611111111111| 74.48611111111111| 29.50972222222222|           0.4306249999999998|    22.0| 0.1527777777777778|\n",
      "| 47| 8.333333333333334|             137.0| 78.33333333333333|              14.5|49.166666666666664| 34.56666666666667|           0.3553333333333333|    47.0| 0.6666666666666666|\n",
      "| 52|             4.625|             133.0|              81.5|            13.375|              94.5|            33.475|                     0.505375|    52.0|              0.875|\n",
      "| 40| 6.230769230769231|130.92307692307693| 69.23076923076923| 24.23076923076923|  72.3076923076923| 33.53846153846154|           0.3760769230769231|    40.0|0.46153846153846156|\n",
      "| 57|               8.8|             137.8|              76.8|               9.6|              78.0|              29.7|                        0.704|    57.0|                0.2|\n",
      "| 54|               7.0|140.33333333333334| 89.33333333333333| 8.833333333333334|              61.0|30.799999999999997|          0.46549999999999997|    54.0| 0.6666666666666666|\n",
      "| 48|               8.8|             107.6|              78.4|              23.4|              52.0|29.979999999999997|          0.45680000000000004|    48.0|                0.2|\n",
      "| 64|               8.0|             120.0|              78.0|               0.0|               0.0|              25.0|                        0.409|    64.0|                0.0|\n",
      "| 41|               6.5| 129.0909090909091|  67.5909090909091| 17.40909090909091| 38.81818181818182|  35.2590909090909|          0.39627272727272717|    41.0| 0.5909090909090909|\n",
      "| 43| 7.769230769230769|             133.0| 78.46153846153847|27.846153846153847|125.15384615384616|36.892307692307696|           0.4508461538461539|    43.0| 0.8461538461538461|\n",
      "| 37|5.2631578947368425| 130.1578947368421| 75.94736842105263| 18.31578947368421| 59.26315789473684|32.078947368421055|           0.4146315789473684|    37.0| 0.3157894736842105|\n",
      "+---+------------------+------------------+------------------+------------------+------------------+------------------+-----------------------------+--------+-------------------+\n",
      "only showing top 20 rows\n"
     ]
    }
   ],
   "source": [
    "pie_chart =  df.groupBy('Age').avg()\n",
    "pie_chart.show()"
   ]
  },
  {
   "cell_type": "code",
   "execution_count": null,
   "id": "b5337685",
   "metadata": {},
   "outputs": [],
   "source": [
    "plt.show()"
   ]
  },
  {
   "cell_type": "code",
   "execution_count": null,
   "id": "5e5cb58c",
   "metadata": {},
   "outputs": [
    {
     "name": "stdout",
     "output_type": "stream",
     "text": [
      "+---+----+\n",
      "|Age| BMI|\n",
      "+---+----+\n",
      "| 50|33.6|\n",
      "| 31|26.6|\n",
      "| 32|23.3|\n",
      "| 21|28.1|\n",
      "| 33|43.1|\n",
      "| 30|25.6|\n",
      "| 26|31.0|\n",
      "| 29|35.3|\n",
      "| 53|30.5|\n",
      "| 54| 0.0|\n",
      "| 30|37.6|\n",
      "| 34|38.0|\n",
      "| 57|27.1|\n",
      "| 59|30.1|\n",
      "| 51|25.8|\n",
      "| 32|30.0|\n",
      "| 31|45.8|\n",
      "| 31|29.6|\n",
      "| 33|43.3|\n",
      "| 32|34.6|\n",
      "+---+----+\n",
      "only showing top 20 rows\n"
     ]
    }
   ],
   "source": [
    "df.select(\"Age\",\"BMI\").show()"
   ]
  },
  {
   "cell_type": "code",
   "execution_count": null,
   "id": "c3d53eee",
   "metadata": {},
   "outputs": [
    {
     "name": "stdout",
     "output_type": "stream",
     "text": [
      "+-----------+-------+-------------+-------------+-------+----+------------------------+---+-------+-------+\n",
      "|Pregnancies|Glucose|BloodPressure|SkinThickness|Insulin| BMI|DiabetesPedigreeFunction|Age|Outcome|Elderly|\n",
      "+-----------+-------+-------------+-------------+-------+----+------------------------+---+-------+-------+\n",
      "|          6|    148|           72|           35|      0|33.6|                   0.627| 50|      1|   true|\n",
      "|          1|     85|           66|           29|      0|26.6|                   0.351| 31|      0|  false|\n",
      "|          8|    183|           64|            0|      0|23.3|                   0.672| 32|      1|  false|\n",
      "|          1|     89|           66|           23|     94|28.1|                   0.167| 21|      0|  false|\n",
      "|          0|    137|           40|           35|    168|43.1|                   2.288| 33|      1|  false|\n",
      "|          5|    116|           74|            0|      0|25.6|                   0.201| 30|      0|  false|\n",
      "|          3|     78|           50|           32|     88|31.0|                   0.248| 26|      1|  false|\n",
      "|         10|    115|            0|            0|      0|35.3|                   0.134| 29|      0|  false|\n",
      "|          2|    197|           70|           45|    543|30.5|                   0.158| 53|      1|   true|\n",
      "|          8|    125|           96|            0|      0| 0.0|                   0.232| 54|      1|   true|\n",
      "|          4|    110|           92|            0|      0|37.6|                   0.191| 30|      0|  false|\n",
      "|         10|    168|           74|            0|      0|38.0|                   0.537| 34|      1|  false|\n",
      "|         10|    139|           80|            0|      0|27.1|                   1.441| 57|      0|   true|\n",
      "|          1|    189|           60|           23|    846|30.1|                   0.398| 59|      1|   true|\n",
      "|          5|    166|           72|           19|    175|25.8|                   0.587| 51|      1|   true|\n",
      "|          7|    100|            0|            0|      0|30.0|                   0.484| 32|      1|  false|\n",
      "|          0|    118|           84|           47|    230|45.8|                   0.551| 31|      1|  false|\n",
      "|          7|    107|           74|            0|      0|29.6|                   0.254| 31|      1|  false|\n",
      "|          1|    103|           30|           38|     83|43.3|                   0.183| 33|      0|  false|\n",
      "|          1|    115|           70|           30|     96|34.6|                   0.529| 32|      1|  false|\n",
      "+-----------+-------+-------------+-------------+-------+----+------------------------+---+-------+-------+\n",
      "only showing top 20 rows\n"
     ]
    }
   ],
   "source": [
    "new_column = df.withColumn(\"Elderly\", df['Age']>= 50).show()"
   ]
  },
  {
   "cell_type": "code",
   "execution_count": null,
   "id": "10e2caa0",
   "metadata": {},
   "outputs": [
    {
     "name": "stdout",
     "output_type": "stream",
     "text": [
      "+-----------+-------+-------------+-------------+-------+----+------------------------+---+-------+\n",
      "|Pregnancies|Glucose|BloodPressure|SkinThickness|Insulin| BMI|DiabetesPedigreeFunction|Age|Outcome|\n",
      "+-----------+-------+-------------+-------------+-------+----+------------------------+---+-------+\n",
      "|          6|    148|           72|           35|      0|33.6|                   0.627| 50|      1|\n",
      "|          1|     85|           66|           29|      0|26.6|                   0.351| 31|      0|\n",
      "|          8|    183|           64|            0|      0|23.3|                   0.672| 32|      1|\n",
      "|          1|     89|           66|           23|     94|28.1|                   0.167| 21|      0|\n",
      "|          0|    137|           40|           35|    168|43.1|                   2.288| 33|      1|\n",
      "|          5|    116|           74|            0|      0|25.6|                   0.201| 30|      0|\n",
      "|          3|     78|           50|           32|     88|31.0|                   0.248| 26|      1|\n",
      "|         10|    115|            0|            0|      0|35.3|                   0.134| 29|      0|\n",
      "|          2|    197|           70|           45|    543|30.5|                   0.158| 53|      1|\n",
      "|          8|    125|           96|            0|      0| 0.0|                   0.232| 54|      1|\n",
      "|          4|    110|           92|            0|      0|37.6|                   0.191| 30|      0|\n",
      "|         10|    168|           74|            0|      0|38.0|                   0.537| 34|      1|\n",
      "|         10|    139|           80|            0|      0|27.1|                   1.441| 57|      0|\n",
      "|          1|    189|           60|           23|    846|30.1|                   0.398| 59|      1|\n",
      "|          5|    166|           72|           19|    175|25.8|                   0.587| 51|      1|\n",
      "|          7|    100|            0|            0|      0|30.0|                   0.484| 32|      1|\n",
      "|          0|    118|           84|           47|    230|45.8|                   0.551| 31|      1|\n",
      "|          7|    107|           74|            0|      0|29.6|                   0.254| 31|      1|\n",
      "|          1|    103|           30|           38|     83|43.3|                   0.183| 33|      0|\n",
      "|          1|    115|           70|           30|     96|34.6|                   0.529| 32|      1|\n",
      "+-----------+-------+-------------+-------------+-------+----+------------------------+---+-------+\n",
      "only showing top 20 rows\n"
     ]
    }
   ],
   "source": [
    "new_column = df.na.drop(how=\"any\", thresh =2 ).show()\n"
   ]
  }
 ],
 "metadata": {
  "kernelspec": {
   "display_name": "Python 3",
   "language": "python",
   "name": "python3"
  },
  "language_info": {
   "codemirror_mode": {
    "name": "ipython",
    "version": 3
   },
   "file_extension": ".py",
   "mimetype": "text/x-python",
   "name": "python",
   "nbconvert_exporter": "python",
   "pygments_lexer": "ipython3",
   "version": "3.13.4"
  }
 },
 "nbformat": 4,
 "nbformat_minor": 5
}
